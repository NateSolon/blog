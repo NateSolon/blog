{
 "cells": [
  {
   "cell_type": "markdown",
   "metadata": {},
   "source": [
    "# \"Poker Combinatorics with Itertools: Part 2\"\n",
    "> \"Ranges and Equity\"\n",
    "\n",
    "- toc:false\n",
    "- comments: false\n",
    "- permalink: /combos-part-2\n",
    "- categories: [poker, python]"
   ]
  },
  {
   "cell_type": "markdown",
   "metadata": {},
   "source": [
    "In [Part 1](https://natesolon.github.io/blog/combos) of this series we used the itertools module to explore poker combinatorics: the number of ways each hand can be dealt, which determines the relative likelihood of different hands. In Part 2, we'll expand on combinatorics to understand how well our hand does against our opponent's likely holdings."
   ]
  },
  {
   "cell_type": "code",
   "execution_count": 54,
   "metadata": {},
   "outputs": [],
   "source": [
    "from itertools import combinations, filterfalse, product, starmap"
   ]
  },
  {
   "cell_type": "markdown",
   "metadata": {},
   "source": [
    "We were considering a hypothetial scenario where you hold pocket deuces and you believe your opponent has either pocket aces, pocket kings, or ace-king. In poker terminology, the list of all the hands you think someone could have based on their actions is called a **range**. So in this case, your opponent's range is \\[AA, KK, AK\\]. Normally it's not possible to narrow down someone's range to just a few hands - this is a simplified example for illustration.\n",
    "\n",
    "To put a finer point on it, let's say the following action has taken place. You're playing 1-2 No Limit Hold-em. Your opponent raised to 10, you re-raised to 30, and they went all-in for 100. Should you call or fold?\n",
    "\n",
    "The code below computes the number of combinations of pocket aces, pocket kings, ace-king suited, and ace-king offsuit respectively. For an explanation of how the code works, see [Part 1](https://natesolon.github.io/blog/combos)."
   ]
  },
  {
   "cell_type": "code",
   "execution_count": 70,
   "metadata": {},
   "outputs": [],
   "source": [
    "suits = 'spades hearts diamonds clubs'.split()\n",
    "\n",
    "aces = [('A', s) for s in suits]\n",
    "kings = [('K', s) for s in suits]\n",
    "\n",
    "AA = list(combinations(aces, 2))\n",
    "KK = list(combinations(kings, 2))\n",
    "\n",
    "AK = list(product(aces, kings))\n",
    "\n",
    "def suited(hand):\n",
    "    return hand[0][1] == hand[1][1]\n",
    "\n",
    "AKs = list(filter(suited, AK))\n",
    "AKo = list(filterfalse(suited, AK))"
   ]
  },
  {
   "cell_type": "code",
   "execution_count": 72,
   "metadata": {},
   "outputs": [
    {
     "data": {
      "text/plain": [
       "[6, 6, 4, 12]"
      ]
     },
     "execution_count": 72,
     "metadata": {},
     "output_type": "execute_result"
    }
   ],
   "source": [
    "combos = [\n",
    "    len(AA),\n",
    "    len(KK),\n",
    "    len(AKs),\n",
    "    len(AKo)\n",
    "]\n",
    "combos"
   ]
  },
  {
   "cell_type": "markdown",
   "metadata": {},
   "source": [
    "We left off Part 1 with the possibly surprising observation that given two facts...\n",
    "\n",
    "- There are 6 combos each of pocket aces and pocket kings, compared to 16 total combos of ace-king\n",
    "- Pocket deuces is a favorite against ace-king\n",
    "\n",
    "...you are actually a favorite more often than not in this scenario. That seems encouraging! However, you are either *slightly* ahead or *way* behind, which might put a damper on your enthusiasm.\n",
    "\n",
    "Let's try to quantify this. To do so, you'll need to know your chances of winning against each hand in your opponent's range. In poker, this number is called **equity**. Calculating the equities is outside the scope of this notebook, but you can look them up with a [poker equity calculator](http://propokertools.com/simulations). Here's the equity of your hand, 22, against each hand in your opponent's range:"
   ]
  },
  {
   "cell_type": "code",
   "execution_count": 73,
   "metadata": {},
   "outputs": [],
   "source": [
    "equities = [\n",
    "    17.78, # AA\n",
    "    18.19, # KK\n",
    "    50.11, # AKs\n",
    "    52.65, # AKo\n",
    "]"
   ]
  },
  {
   "cell_type": "markdown",
   "metadata": {},
   "source": [
    "A quick aside on equity: Analytical-minded people who don't play a lot of poker often ask some version of the question, \"Isn't poker just math?\" By math, I think they usually mean something like equity. Basically, how often would your hand win if you just dealt out the rest of the cards. This does seem extremely relevant, so why isn't it the whole story? Well, if you or your opponent is all-in, it is nearly the whole story. But if you're not all-in, you don't just deal out the cards and see who wins. You engage in a series of strategic interactions where you and your opponent try to outmaneuver each other. In this struggle, hands can perform better or worse than their equity would suggest. This part of poker is described by an entirely different branch of math: game theory."
   ]
  },
  {
   "cell_type": "markdown",
   "metadata": {},
   "source": [
    "Anyway, back to the situation at hand. When deciding whether to call or fold, what really matters is your equity against your opponent's range. This is the average of your equity against each hand in their range, weighted by the number of combinations. (Remember, combinations determine the relative likelihood of the hands.)\n",
    "\n",
    "To calculate that you can use another function from the itertools module, `starmap`, which applies a function to each item of an iterable. In this case, to get the equity against their range, for each hand you can multiply the number of combos by your equity against that hand, and finally divide by the total number of combos to get the weighted average."
   ]
  },
  {
   "cell_type": "code",
   "execution_count": 74,
   "metadata": {},
   "outputs": [
    {
     "data": {
      "text/plain": [
       "37.43071428571428"
      ]
     },
     "execution_count": 74,
     "metadata": {},
     "output_type": "execute_result"
    }
   ],
   "source": [
    "equity_vs_range = sum(starmap(operator.mul, zip(combos, equities))) / sum(combos)\n",
    "equity_vs_range"
   ]
  },
  {
   "cell_type": "markdown",
   "metadata": {},
   "source": [
    "So it turns out that even though you're a favorite more often than not, you only have 37% equity against their range. Not great. So you should fold, right?\n",
    "\n",
    "The thing is, there's already a lot of money in the pot. There's the blinds of 1 and 2, plus your raise to 30, and finally your opponent's 100. You only have to call another 70 to have a chance of winning all of that.\n",
    "\n",
    "In poker, maximizing expected value is the name of the game. By definition, the expected value of folding is zero. If you fold, you can neither win nor lose any more money. So, you should call if the expected value of calling is greater than zero. The expected value of the call is -70 (what you need to invest to call) plus what you stand to win, which is your equity against your opponent's range times the size of the final pot."
   ]
  },
  {
   "cell_type": "code",
   "execution_count": 75,
   "metadata": {},
   "outputs": [
    {
     "data": {
      "text/plain": [
       "5.984349999999978"
      ]
     },
     "execution_count": 75,
     "metadata": {},
     "output_type": "execute_result"
    }
   ],
   "source": [
    "(\n",
    "    -70 # what it costs to call\n",
    "    + equity_vs_range / 100 # your equity vs. their range (divide by 100 because it's a percent)\n",
    "    * (1 + 2 + 100 + 100) # final size of the pot\n",
    ")"
   ]
  },
  {
   "cell_type": "markdown",
   "metadata": {},
   "source": [
    "Even though you only have 37% equity against your opponent's range, you stand to make 6 dollars by calling because there's already so much money in the pot. Admittedly, this isn't a great spot for you - on average you'll finish the hand with less money than you started with - but maybe you should have thought of that before raising to 30."
   ]
  },
  {
   "cell_type": "code",
   "execution_count": null,
   "metadata": {},
   "outputs": [],
   "source": []
  }
 ],
 "metadata": {
  "kernelspec": {
   "display_name": "Python 3",
   "language": "python",
   "name": "python3"
  },
  "language_info": {
   "codemirror_mode": {
    "name": "ipython",
    "version": 3
   },
   "file_extension": ".py",
   "mimetype": "text/x-python",
   "name": "python",
   "nbconvert_exporter": "python",
   "pygments_lexer": "ipython3",
   "version": "3.9.0b5"
  }
 },
 "nbformat": 4,
 "nbformat_minor": 4
}
