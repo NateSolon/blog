{
 "cells": [
  {
   "cell_type": "markdown",
   "metadata": {},
   "source": [
    "# \"Poker Combinatorics with Itertools\"\n",
    "\n",
    "- toc: false\n",
    "- comments: false\n",
    "- permalink: /combos\n",
    "- categories: [poker, python]"
   ]
  },
  {
   "cell_type": "markdown",
   "metadata": {},
   "source": [
    "Suppose you're playing No Limit Hold'em, and based on how your opponent has played the hand, you believe they have pocket aces, pocket kings, or ace-king. How likely is each hand? (Hint: They're not equally likely!)\n",
    "\n",
    "The math that determines the likelihood of each hand is called combinatorics and it's in a sweet spot of being non-obvious, yet pretty easy to understand, and highly relevant for in-game strategy. I just finished [Fluent Python](https://learning.oreilly.com/library/view/fluent-python/9781491946237/) by Luciano Ramalho and got a refresher on the [Python built-in itertools module](https://docs.python.org/3/library/itertools.html), which provides the necessary tools to explore combinatorics. Itertools provides functions for creating iterators. Of particular interest for poker are the \"combinatoric iterators,\" such as `product` and `combinations`, which combine elements together. These will be useful for combining ranks and suits to form cards, combining cards to form combinations, and ultimately understanding the relative likelihood of different hands.\n",
    "\n",
    "By the way, you can run this post as a colab notebook. Click the colab link under the title to open a notebook in colab where you can run the code or try your own changes."
   ]
  },
  {
   "cell_type": "code",
   "execution_count": 3,
   "metadata": {},
   "outputs": [],
   "source": [
    "from itertools import product, combinations, filterfalse"
   ]
  },
  {
   "cell_type": "markdown",
   "metadata": {},
   "source": [
    "The first example in the book is actually a playing card deck, so we can borrow a little code to get started."
   ]
  },
  {
   "cell_type": "code",
   "execution_count": 4,
   "metadata": {},
   "outputs": [],
   "source": [
    "suits = 'spades hearts diamonds clubs'.split()\n",
    "ranks = [str(n) for n in range(2, 11)] + list('JQKA')"
   ]
  },
  {
   "cell_type": "markdown",
   "metadata": {},
   "source": [
    "To get the cards in the deck, you can use the `product` function from itertools. Here's the description:\n",
    "\n",
    "\"Cartesian product: yields N-tuples made by combining items from each input iterable like nested for loops could produce.\"\n",
    "\n",
    "Essentially, this gets every combination of suits and ranks."
   ]
  },
  {
   "cell_type": "code",
   "execution_count": 6,
   "metadata": {},
   "outputs": [],
   "source": [
    "cards = product(ranks, suits)"
   ]
  },
  {
   "cell_type": "markdown",
   "metadata": {},
   "source": [
    "All the itertools functions return iterators, so if you want to do things like check the length, you need to coerce the result into a list."
   ]
  },
  {
   "cell_type": "code",
   "execution_count": 7,
   "metadata": {},
   "outputs": [
    {
     "data": {
      "text/plain": [
       "52"
      ]
     },
     "execution_count": 7,
     "metadata": {},
     "output_type": "execute_result"
    }
   ],
   "source": [
    "cards = list(cards)\n",
    "len(cards)"
   ]
  },
  {
   "cell_type": "code",
   "execution_count": 8,
   "metadata": {},
   "outputs": [
    {
     "data": {
      "text/plain": [
       "(('2', 'spades'), ('A', 'clubs'))"
      ]
     },
     "execution_count": 8,
     "metadata": {},
     "output_type": "execute_result"
    }
   ],
   "source": [
    "cards[0], cards[-1]"
   ]
  },
  {
   "cell_type": "markdown",
   "metadata": {},
   "source": [
    "Story checks out!\n",
    "\n",
    "Now, combinations (or combos) are all the possible two-card starting hands. Conveniently, itertools has a `combinations` function. It takes two arguments: the set you'll be drawing from, and the size of the combinations. In this case you want all two-card combinations from cards. It generates combinations without replacement, i.e., you can't draw the same card twice."
   ]
  },
  {
   "cell_type": "code",
   "execution_count": 9,
   "metadata": {},
   "outputs": [],
   "source": [
    "combos = list(combinations(cards, 2))"
   ]
  },
  {
   "cell_type": "code",
   "execution_count": 10,
   "metadata": {},
   "outputs": [
    {
     "data": {
      "text/plain": [
       "1326"
      ]
     },
     "execution_count": 10,
     "metadata": {},
     "output_type": "execute_result"
    }
   ],
   "source": [
    "len(combos)"
   ]
  },
  {
   "cell_type": "markdown",
   "metadata": {},
   "source": [
    "There are 1326 combinations, but these include combinations that you would typically consider the same hand."
   ]
  },
  {
   "cell_type": "code",
   "execution_count": 11,
   "metadata": {},
   "outputs": [
    {
     "data": {
      "text/plain": [
       "(('2', 'spades'), ('2', 'hearts'))"
      ]
     },
     "execution_count": 11,
     "metadata": {},
     "output_type": "execute_result"
    }
   ],
   "source": [
    "combos[0]"
   ]
  },
  {
   "cell_type": "code",
   "execution_count": 12,
   "metadata": {},
   "outputs": [
    {
     "data": {
      "text/plain": [
       "(('2', 'spades'), ('2', 'diamonds'))"
      ]
     },
     "execution_count": 12,
     "metadata": {},
     "output_type": "execute_result"
    }
   ],
   "source": [
    "combos[1]"
   ]
  },
  {
   "cell_type": "markdown",
   "metadata": {},
   "source": [
    "Even though the above hands have different cards, you'd probably think of both of them as \"pocket deuces.\" If you play a lot of poker, you've likely seen the \"Grid,\" which is a more intuitive way of representing hands.\n",
    "\n",
    "![](https://raw.githubusercontent.com/NateSolon/blog/master/images/poker_grid.png)\n",
    "\n",
    "In this way of representing the hands, the upper right hands are suited, the lower left are offsuit, and the pairs go diagonally across the middle. Each cell represents multiple combinations (but not always the same number of combinations per cell!). To get something more like the grid representation of hands, you can take the product of ranks with itself."
   ]
  },
  {
   "cell_type": "code",
   "execution_count": 13,
   "metadata": {},
   "outputs": [],
   "source": [
    "hands = list(product(ranks, ranks))"
   ]
  },
  {
   "cell_type": "code",
   "execution_count": 14,
   "metadata": {},
   "outputs": [
    {
     "data": {
      "text/plain": [
       "169"
      ]
     },
     "execution_count": 14,
     "metadata": {},
     "output_type": "execute_result"
    }
   ],
   "source": [
    "len(hands)"
   ]
  },
  {
   "cell_type": "code",
   "execution_count": 15,
   "metadata": {},
   "outputs": [
    {
     "data": {
      "text/plain": [
       "('2', '2')"
      ]
     },
     "execution_count": 15,
     "metadata": {},
     "output_type": "execute_result"
    }
   ],
   "source": [
    "hands[0]"
   ]
  },
  {
   "cell_type": "code",
   "execution_count": 16,
   "metadata": {},
   "outputs": [
    {
     "data": {
      "text/plain": [
       "('A', 'A')"
      ]
     },
     "execution_count": 16,
     "metadata": {},
     "output_type": "execute_result"
    }
   ],
   "source": [
    "hands[-1]"
   ]
  },
  {
   "cell_type": "markdown",
   "metadata": {},
   "source": [
    "How likely a hand is depends on how many ways it can be dealt - the combinations. You now have all the information you need to answer the initial question: If you think your opponent has pocket aces, pocket kings, or ace-king, how likely is each?"
   ]
  },
  {
   "cell_type": "code",
   "execution_count": 18,
   "metadata": {},
   "outputs": [],
   "source": [
    "aces = [('A', s) for s in suits]\n",
    "kings = [('K', s) for s in suits]"
   ]
  },
  {
   "cell_type": "code",
   "execution_count": 19,
   "metadata": {},
   "outputs": [],
   "source": [
    "AA = list(combinations(aces, 2))\n",
    "KK = list(combinations(kings, 2))"
   ]
  },
  {
   "cell_type": "code",
   "execution_count": 21,
   "metadata": {},
   "outputs": [
    {
     "data": {
      "text/plain": [
       "[(('A', 'spades'), ('A', 'hearts')),\n",
       " (('A', 'spades'), ('A', 'diamonds')),\n",
       " (('A', 'spades'), ('A', 'clubs')),\n",
       " (('A', 'hearts'), ('A', 'diamonds')),\n",
       " (('A', 'hearts'), ('A', 'clubs')),\n",
       " (('A', 'diamonds'), ('A', 'clubs'))]"
      ]
     },
     "execution_count": 21,
     "metadata": {},
     "output_type": "execute_result"
    }
   ],
   "source": [
    "AA"
   ]
  },
  {
   "cell_type": "code",
   "execution_count": 22,
   "metadata": {},
   "outputs": [
    {
     "data": {
      "text/plain": [
       "6"
      ]
     },
     "execution_count": 22,
     "metadata": {},
     "output_type": "execute_result"
    }
   ],
   "source": [
    "len(AA)"
   ]
  },
  {
   "cell_type": "markdown",
   "metadata": {},
   "source": [
    "There are six ways to deal pocket aces. The same applies for pocket kings, or any other pair, of course. The chances of being dealt pocket aces are six divided by the total number of combinations."
   ]
  },
  {
   "cell_type": "code",
   "execution_count": 23,
   "metadata": {},
   "outputs": [
    {
     "data": {
      "text/plain": [
       "0.004524886877828055"
      ]
     },
     "execution_count": 23,
     "metadata": {},
     "output_type": "execute_result"
    }
   ],
   "source": [
    "len(AA) / len(combos)"
   ]
  },
  {
   "cell_type": "markdown",
   "metadata": {},
   "source": [
    "You get dealt pocket aces about one in 200 hands. How does this compare to ace-king?"
   ]
  },
  {
   "cell_type": "code",
   "execution_count": 24,
   "metadata": {},
   "outputs": [],
   "source": [
    "AK = list(product(aces, kings))"
   ]
  },
  {
   "cell_type": "code",
   "execution_count": 26,
   "metadata": {},
   "outputs": [
    {
     "data": {
      "text/plain": [
       "[(('A', 'spades'), ('K', 'spades')),\n",
       " (('A', 'spades'), ('K', 'hearts')),\n",
       " (('A', 'spades'), ('K', 'diamonds')),\n",
       " (('A', 'spades'), ('K', 'clubs')),\n",
       " (('A', 'hearts'), ('K', 'spades')),\n",
       " (('A', 'hearts'), ('K', 'hearts')),\n",
       " (('A', 'hearts'), ('K', 'diamonds')),\n",
       " (('A', 'hearts'), ('K', 'clubs')),\n",
       " (('A', 'diamonds'), ('K', 'spades')),\n",
       " (('A', 'diamonds'), ('K', 'hearts')),\n",
       " (('A', 'diamonds'), ('K', 'diamonds')),\n",
       " (('A', 'diamonds'), ('K', 'clubs')),\n",
       " (('A', 'clubs'), ('K', 'spades')),\n",
       " (('A', 'clubs'), ('K', 'hearts')),\n",
       " (('A', 'clubs'), ('K', 'diamonds')),\n",
       " (('A', 'clubs'), ('K', 'clubs'))]"
      ]
     },
     "execution_count": 26,
     "metadata": {},
     "output_type": "execute_result"
    }
   ],
   "source": [
    "AK"
   ]
  },
  {
   "cell_type": "code",
   "execution_count": 27,
   "metadata": {},
   "outputs": [
    {
     "data": {
      "text/plain": [
       "16"
      ]
     },
     "execution_count": 27,
     "metadata": {},
     "output_type": "execute_result"
    }
   ],
   "source": [
    "len(AK)"
   ]
  },
  {
   "cell_type": "markdown",
   "metadata": {},
   "source": [
    "There are 16 combinations of AK. Of those, some are suited and some are offsuit. You can use the `filter` and `filterfalse` functions to separate them."
   ]
  },
  {
   "cell_type": "code",
   "execution_count": 28,
   "metadata": {},
   "outputs": [],
   "source": [
    "def suited(hand):\n",
    "    return hand[0][1] == hand[1][1]"
   ]
  },
  {
   "cell_type": "code",
   "execution_count": 35,
   "metadata": {},
   "outputs": [],
   "source": [
    "AKs = list(filter(suited, AK))\n",
    "AKo = list(filterfalse(suited, AK))"
   ]
  },
  {
   "cell_type": "code",
   "execution_count": 36,
   "metadata": {},
   "outputs": [
    {
     "data": {
      "text/plain": [
       "(4, 12)"
      ]
     },
     "execution_count": 36,
     "metadata": {},
     "output_type": "execute_result"
    }
   ],
   "source": [
    "len(AKs), len(AKo)"
   ]
  },
  {
   "cell_type": "markdown",
   "metadata": {},
   "source": [
    "There are 16 combos of ace-king and only six each of aces and kings, so ace-king is more likely than aces and kings *combined*. Given that pocket deuces is a slight favorite against ace-king, if you hold deuces in this situation, you are actually ahead more often than not. Unfortunately, this is a classic slightly ahead/way behind scenario: you're either a tiny favorite or a huge underdog, so you're still basically screwed. But that's a topic for another day."
   ]
  },
  {
   "cell_type": "markdown",
   "metadata": {},
   "source": [
    "## Takeaways\n",
    "* Not all hands are equally likely.\n",
    "* Offsuit, unpaired hands are the most likely. Pairs are less likely. Suited hands are the rarest are all.\n",
    "* This means, if you are considering how likely it is for your opponent to have a certain hand, it's *really* important whether or not they would play the offsuit version of that hand."
   ]
  },
  {
   "cell_type": "code",
   "execution_count": null,
   "metadata": {},
   "outputs": [],
   "source": []
  }
 ],
 "metadata": {
  "kernelspec": {
   "display_name": "Python 3",
   "language": "python",
   "name": "python3"
  },
  "language_info": {
   "codemirror_mode": {
    "name": "ipython",
    "version": 3
   },
   "file_extension": ".py",
   "mimetype": "text/x-python",
   "name": "python",
   "nbconvert_exporter": "python",
   "pygments_lexer": "ipython3",
   "version": "3.9.0b5"
  }
 },
 "nbformat": 4,
 "nbformat_minor": 4
}
